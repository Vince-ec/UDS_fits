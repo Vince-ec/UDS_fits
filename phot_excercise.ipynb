{
 "cells": [
  {
   "cell_type": "code",
   "execution_count": 1,
   "id": "2d804957-d4f4-46e2-88ef-a15c2a772963",
   "metadata": {},
   "outputs": [],
   "source": [
    "import numpy as np\n",
    "from spec_tools import Photometry\n",
    "import matplotlib.pyplot as plt\n",
    "import fsps"
   ]
  },
  {
   "cell_type": "code",
   "execution_count": 2,
   "id": "5241ca43-e532-4386-a3ee-8c643e58c719",
   "metadata": {},
   "outputs": [],
   "source": [
    "def load_phot(fl):\n",
    "    Pwv, Pflx, Perr, Pnum=np.load(fl)\n",
    "    return Pwv[Pflx > 0], Pflx[Pflx > 0], Perr[Pflx > 0], Pnum[Pflx > 0].astype(int)"
   ]
  },
  {
   "cell_type": "code",
   "execution_count": 3,
   "id": "af50c265-1130-4369-be7d-51c083c84d06",
   "metadata": {},
   "outputs": [],
   "source": [
    "Pwv, Pflx, Perr, Pnum=load_phot('3dHST_photometry/UDS_28707_phot.npy')"
   ]
  },
  {
   "cell_type": "code",
   "execution_count": 4,
   "id": "00121b28-6310-41ed-9b73-b7452e998ffe",
   "metadata": {},
   "outputs": [
    {
     "data": {
      "text/plain": [
       "<ErrorbarContainer object of 3 artists>"
      ]
     },
     "execution_count": 4,
     "metadata": {},
     "output_type": "execute_result"
    },
    {
     "data": {
      "image/png": "[encoded data removed]",
      "text/plain": [
       "<Figure size 432x288 with 1 Axes>"
      ]
     },
     "metadata": {
      "needs_background": "light"
     },
     "output_type": "display_data"
    }
   ],
   "source": [
    "plt.errorbar(Pwv, Pflx, Perr, fmt = 'o')"
   ]
  },
  {
   "cell_type": "code",
   "execution_count": 5,
   "id": "2be347f4-cd8b-4ec8-a307-9cdc2694f1fd",
   "metadata": {},
   "outputs": [],
   "source": [
    "sp = fsps.StellarPopulation(zcontinuous = 1, logzsol = 0, sfh=4, \n",
    "                            tau=0.2, dust_type=1) "
   ]
  },
  {
   "cell_type": "code",
   "execution_count": 6,
   "id": "c1f38c2b-3f78-4e2c-92f2-63c29fe57b52",
   "metadata": {},
   "outputs": [],
   "source": [
    "wave,flux = sp.get_spectrum(tage = 5, peraa=True)"
   ]
  },
  {
   "cell_type": "code",
   "execution_count": 18,
   "id": "37e37102-85a4-49ed-a98e-bfb4aff54237",
   "metadata": {},
   "outputs": [],
   "source": [
    "PHOT = {}\n",
    "\n",
    "for i, filt in enumerate(Pnum):\n",
    "    PHOT[filt] = Photometry([1],[1],np.ones_like(flux), filt)\n",
    "    PHOT[filt].Get_Sensitivity(filt)\n"
   ]
  },
  {
   "cell_type": "code",
   "execution_count": 19,
   "id": "4370fe92-7f70-417f-9353-f2e87ce22ec4",
   "metadata": {},
   "outputs": [
    {
     "data": {
      "image/png": "[encoded data removed]",
      "text/plain": [
       "<Figure size 432x288 with 1 Axes>"
      ]
     },
     "metadata": {
      "needs_background": "light"
     },
     "output_type": "display_data"
    }
   ],
   "source": [
    "for i, filt in enumerate(Pnum):\n",
    "    PHOT[filt].Photo_model(wave,flux)\n",
    "    plt.plot(PHOT[filt].eff_mwv, PHOT[filt].mphoto, 'o')"
   ]
  },
  {
   "cell_type": "code",
   "execution_count": null,
   "id": "cf646182-27b4-4760-b7a5-7f1472b75d2a",
   "metadata": {},
   "outputs": [],
   "source": []
  }
 ],
 "metadata": {
  "kernelspec": {
   "display_name": "Python 3 (ipykernel)",
   "language": "python",
   "name": "python3"
  },
  "language_info": {
   "codemirror_mode": {
    "name": "ipython",
    "version": 3
   },
   "file_extension": ".py",
   "mimetype": "text/x-python",
   "name": "python",
   "nbconvert_exporter": "python",
   "pygments_lexer": "ipython3",
   "version": "3.9.7"
  }
 },
 "nbformat": 4,
 "nbformat_minor": 5
}
